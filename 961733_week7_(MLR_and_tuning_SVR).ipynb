{
  "nbformat": 4,
  "nbformat_minor": 0,
  "metadata": {
    "colab": {
      "name": "961733_week7 (MLR and tuning SVR).ipynb",
      "provenance": [],
      "collapsed_sections": [],
      "authorship_tag": "ABX9TyO41JnYieVV/Y5ju509yiMw",
      "include_colab_link": true
    },
    "kernelspec": {
      "name": "python3",
      "display_name": "Python 3"
    },
    "accelerator": "GPU"
  },
  "cells": [
    {
      "cell_type": "markdown",
      "metadata": {
        "id": "view-in-github",
        "colab_type": "text"
      },
      "source": [
        "<a href=\"https://colab.research.google.com/github/preenet/961733_64_2/blob/main/961733_week7_(MLR_and_tuning_SVR).ipynb\" target=\"_parent\"><img src=\"https://colab.research.google.com/assets/colab-badge.svg\" alt=\"Open In Colab\"/></a>"
      ]
    },
    {
      "cell_type": "code",
      "metadata": {
        "id": "ugpDqTUqKeMf"
      },
      "source": [
        "# ensures that all matplotlib plots will be plotted in the output cell within the notebook and will be kept in the notebook when saved.\n",
        "# reload all modules before executing a new line\n",
        "%matplotlib inline\n",
        "%reload_ext autoreload\n",
        "%autoreload 2"
      ],
      "execution_count": null,
      "outputs": []
    },
    {
      "cell_type": "markdown",
      "metadata": {
        "id": "pbA9pAD14mE1"
      },
      "source": [
        "# Multi Linear Regression and Support Vector Machine with ENB2012 dataset\n",
        "https://archive.ics.uci.edu/ml/datasets/energy+efficiency  \n",
        "\n",
        "https://www.sciencedirect.com/science/article/abs/pii/S037877881200151X  \n",
        "https://www.ijisae.org/IJISAE/article/view/619/pdf  \n",
        "\n",
        "\n"
      ]
    },
    {
      "cell_type": "code",
      "metadata": {
        "id": "O4Vrw3uZ42B-",
        "outputId": "8789e076-672a-4966-9a71-2cb80c6ffc37",
        "colab": {
          "base_uri": "https://localhost:8080/",
          "height": 34
        }
      },
      "source": [
        "from google.colab import drive\n",
        "drive.mount('/content/drive')"
      ],
      "execution_count": null,
      "outputs": [
        {
          "output_type": "stream",
          "text": [
            "Drive already mounted at /content/drive; to attempt to forcibly remount, call drive.mount(\"/content/drive\", force_remount=True).\n"
          ],
          "name": "stdout"
        }
      ]
    },
    {
      "cell_type": "code",
      "metadata": {
        "id": "a9ucPIKA4vCT"
      },
      "source": [
        "import pandas as pd\n",
        "import numpy as np\n",
        "import matplotlib.pyplot as plt"
      ],
      "execution_count": null,
      "outputs": []
    },
    {
      "cell_type": "markdown",
      "metadata": {
        "id": "vHkpBJwQ9Hj-"
      },
      "source": [
        "#1. Import Dataset"
      ]
    },
    {
      "cell_type": "code",
      "metadata": {
        "id": "VTG5Lq0B6BbS"
      },
      "source": [
        "path = '/content/drive/My Drive/Colab Notebooks/'"
      ],
      "execution_count": null,
      "outputs": []
    },
    {
      "cell_type": "code",
      "metadata": {
        "id": "jJizRpnX6ZSB"
      },
      "source": [
        "df = pd.read_excel(path+'ENB2012_data.xlsx')"
      ],
      "execution_count": null,
      "outputs": []
    },
    {
      "cell_type": "markdown",
      "metadata": {
        "id": "k8WIIrfVXF8z"
      },
      "source": [
        "## 2. Exploration"
      ]
    },
    {
      "cell_type": "code",
      "metadata": {
        "id": "90FF_suE6dJR",
        "outputId": "5de79063-6d9a-46b5-d597-72a038eedd80",
        "colab": {
          "base_uri": "https://localhost:8080/",
          "height": 204
        }
      },
      "source": [
        "df.head()"
      ],
      "execution_count": null,
      "outputs": [
        {
          "output_type": "execute_result",
          "data": {
            "text/html": [
              "<div>\n",
              "<style scoped>\n",
              "    .dataframe tbody tr th:only-of-type {\n",
              "        vertical-align: middle;\n",
              "    }\n",
              "\n",
              "    .dataframe tbody tr th {\n",
              "        vertical-align: top;\n",
              "    }\n",
              "\n",
              "    .dataframe thead th {\n",
              "        text-align: right;\n",
              "    }\n",
              "</style>\n",
              "<table border=\"1\" class=\"dataframe\">\n",
              "  <thead>\n",
              "    <tr style=\"text-align: right;\">\n",
              "      <th></th>\n",
              "      <th>X1</th>\n",
              "      <th>X2</th>\n",
              "      <th>X3</th>\n",
              "      <th>X4</th>\n",
              "      <th>X5</th>\n",
              "      <th>X6</th>\n",
              "      <th>X7</th>\n",
              "      <th>X8</th>\n",
              "      <th>Y1</th>\n",
              "      <th>Y2</th>\n",
              "    </tr>\n",
              "  </thead>\n",
              "  <tbody>\n",
              "    <tr>\n",
              "      <th>0</th>\n",
              "      <td>0.98</td>\n",
              "      <td>514.5</td>\n",
              "      <td>294.0</td>\n",
              "      <td>110.25</td>\n",
              "      <td>7.0</td>\n",
              "      <td>2</td>\n",
              "      <td>0.0</td>\n",
              "      <td>0</td>\n",
              "      <td>15.55</td>\n",
              "      <td>21.33</td>\n",
              "    </tr>\n",
              "    <tr>\n",
              "      <th>1</th>\n",
              "      <td>0.98</td>\n",
              "      <td>514.5</td>\n",
              "      <td>294.0</td>\n",
              "      <td>110.25</td>\n",
              "      <td>7.0</td>\n",
              "      <td>3</td>\n",
              "      <td>0.0</td>\n",
              "      <td>0</td>\n",
              "      <td>15.55</td>\n",
              "      <td>21.33</td>\n",
              "    </tr>\n",
              "    <tr>\n",
              "      <th>2</th>\n",
              "      <td>0.98</td>\n",
              "      <td>514.5</td>\n",
              "      <td>294.0</td>\n",
              "      <td>110.25</td>\n",
              "      <td>7.0</td>\n",
              "      <td>4</td>\n",
              "      <td>0.0</td>\n",
              "      <td>0</td>\n",
              "      <td>15.55</td>\n",
              "      <td>21.33</td>\n",
              "    </tr>\n",
              "    <tr>\n",
              "      <th>3</th>\n",
              "      <td>0.98</td>\n",
              "      <td>514.5</td>\n",
              "      <td>294.0</td>\n",
              "      <td>110.25</td>\n",
              "      <td>7.0</td>\n",
              "      <td>5</td>\n",
              "      <td>0.0</td>\n",
              "      <td>0</td>\n",
              "      <td>15.55</td>\n",
              "      <td>21.33</td>\n",
              "    </tr>\n",
              "    <tr>\n",
              "      <th>4</th>\n",
              "      <td>0.90</td>\n",
              "      <td>563.5</td>\n",
              "      <td>318.5</td>\n",
              "      <td>122.50</td>\n",
              "      <td>7.0</td>\n",
              "      <td>2</td>\n",
              "      <td>0.0</td>\n",
              "      <td>0</td>\n",
              "      <td>20.84</td>\n",
              "      <td>28.28</td>\n",
              "    </tr>\n",
              "  </tbody>\n",
              "</table>\n",
              "</div>"
            ],
            "text/plain": [
              "     X1     X2     X3      X4   X5  X6   X7  X8     Y1     Y2\n",
              "0  0.98  514.5  294.0  110.25  7.0   2  0.0   0  15.55  21.33\n",
              "1  0.98  514.5  294.0  110.25  7.0   3  0.0   0  15.55  21.33\n",
              "2  0.98  514.5  294.0  110.25  7.0   4  0.0   0  15.55  21.33\n",
              "3  0.98  514.5  294.0  110.25  7.0   5  0.0   0  15.55  21.33\n",
              "4  0.90  563.5  318.5  122.50  7.0   2  0.0   0  20.84  28.28"
            ]
          },
          "metadata": {
            "tags": []
          },
          "execution_count": 6
        }
      ]
    },
    {
      "cell_type": "code",
      "metadata": {
        "id": "odxs7NPRd67t",
        "outputId": "842225f4-1d65-4d9c-e6e5-f9a947263358",
        "colab": {
          "base_uri": "https://localhost:8080/",
          "height": 272
        }
      },
      "source": [
        "df.info()"
      ],
      "execution_count": null,
      "outputs": [
        {
          "output_type": "stream",
          "text": [
            "<class 'pandas.core.frame.DataFrame'>\n",
            "RangeIndex: 768 entries, 0 to 767\n",
            "Data columns (total 10 columns):\n",
            "X1    768 non-null float64\n",
            "X2    768 non-null float64\n",
            "X3    768 non-null float64\n",
            "X4    768 non-null float64\n",
            "X5    768 non-null float64\n",
            "X6    768 non-null int64\n",
            "X7    768 non-null float64\n",
            "X8    768 non-null int64\n",
            "Y1    768 non-null float64\n",
            "Y2    768 non-null float64\n",
            "dtypes: float64(8), int64(2)\n",
            "memory usage: 60.1 KB\n"
          ],
          "name": "stdout"
        }
      ]
    },
    {
      "cell_type": "code",
      "metadata": {
        "id": "6tat4qhseYJU",
        "outputId": "93fbd200-9fb8-47a1-b664-67c83523e6b1",
        "colab": {
          "base_uri": "https://localhost:8080/",
          "height": 34
        }
      },
      "source": [
        "df.X6.unique()\n",
        "df['X8'].unique()"
      ],
      "execution_count": null,
      "outputs": [
        {
          "output_type": "execute_result",
          "data": {
            "text/plain": [
              "array([0, 1, 2, 3, 4, 5])"
            ]
          },
          "metadata": {
            "tags": []
          },
          "execution_count": 8
        }
      ]
    },
    {
      "cell_type": "code",
      "metadata": {
        "id": "YfHT1CkK71LQ"
      },
      "source": [
        "X = df.iloc[:,:8]\n",
        "Y = df.iloc[:,8:10]"
      ],
      "execution_count": null,
      "outputs": []
    },
    {
      "cell_type": "markdown",
      "metadata": {
        "id": "Z-lEybgqXLsH"
      },
      "source": [
        "## 3. Transform"
      ]
    },
    {
      "cell_type": "code",
      "metadata": {
        "id": "2B_nW2I09X5f"
      },
      "source": [
        "from sklearn.preprocessing import StandardScaler\n",
        "sc_X = StandardScaler()\n",
        "sc_y = StandardScaler()\n",
        "X = sc_X.fit_transform(X)\n",
        "Y = sc_y.fit_transform(Y)"
      ],
      "execution_count": null,
      "outputs": []
    },
    {
      "cell_type": "code",
      "metadata": {
        "id": "Wq4T4_1fOI6j"
      },
      "source": [
        "# round for multi-classification problem (4 class problem)\n",
        "y1 = df['Y1'].astype(int)\n",
        "y2 = df['Y2'].astype(int)\n"
      ],
      "execution_count": null,
      "outputs": []
    },
    {
      "cell_type": "code",
      "metadata": {
        "id": "wSHRBJ0sR1Dv"
      },
      "source": [
        "y1 = [round(i, -1) for i in y1]\n",
        "y2 = [round(i, -1) for i in y2]"
      ],
      "execution_count": null,
      "outputs": []
    },
    {
      "cell_type": "markdown",
      "metadata": {
        "id": "ce5JUPSEXPX5"
      },
      "source": [
        "## 4. Modeling and evalualtion"
      ]
    },
    {
      "cell_type": "markdown",
      "metadata": {
        "id": "1K0Rb0MLVg6J"
      },
      "source": [
        "**Baseline classfier with Random forest default**"
      ]
    },
    {
      "cell_type": "code",
      "metadata": {
        "id": "aahpftwkULQo",
        "colab": {
          "base_uri": "https://localhost:8080/",
          "height": 34
        },
        "outputId": "0d17225a-e77f-4022-ee43-0ac31a666414"
      },
      "source": [
        "# try classification problem\n",
        "from sklearn.model_selection import train_test_split, cross_val_score\n",
        "from sklearn.ensemble import RandomForestClassifier\n",
        "from sklearn import metrics\n",
        "\n",
        "X_train, X_test, y_train, y_test = train_test_split(X, y1, test_size = 0.2, random_state = 0)\n",
        "\n",
        "clf= RandomForestClassifier(n_estimators=100)\n",
        "clf.fit(X_train,y_train)\n",
        "\n",
        "y_pred=clf.predict(X_test)\n",
        "\n",
        "print(\"Rough Accuracy rate%:\",metrics.accuracy_score(y_test, y_pred)*100)"
      ],
      "execution_count": null,
      "outputs": [
        {
          "output_type": "stream",
          "text": [
            "Rough Accuracy rate%: 96.75324675324676\n"
          ],
          "name": "stdout"
        }
      ]
    },
    {
      "cell_type": "markdown",
      "metadata": {
        "id": "9Y8UP9ngIolg"
      },
      "source": [
        "**Baseline model with Random forest**"
      ]
    },
    {
      "cell_type": "code",
      "metadata": {
        "id": "3NBzgwvn9Yqo"
      },
      "source": [
        "# you can use Kfold method from sklearn.model\n",
        "from sklearn.model_selection import KFold\n",
        "from sklearn.ensemble import RandomForestRegressor\n",
        "from sklearn.metrics import mean_absolute_error\n",
        "\n",
        "cv = KFold(n_splits = 10, shuffle = True, random_state = False)\n",
        "cv_scores_test = []\n",
        "testing_error = []\n",
        "rf= RandomForestRegressor(n_estimators = 100, random_state = 1)\n",
        "for train_index, test_index in cv.split(X):\n",
        "  X_train, X_test = X[train_index], X[test_index]\n",
        "  y_train, y_test = Y[train_index,0], Y[test_index,0]\n",
        "  rf.fit(X_train, y_train)\n",
        "  y_test_pred = rf.predict(X_test)      \n",
        "  \n",
        "  cv_scores_test = mean_absolute_error(y_test, y_test_pred)\n",
        "  testing_error.append(cv_scores_test)"
      ],
      "execution_count": null,
      "outputs": []
    },
    {
      "cell_type": "code",
      "metadata": {
        "id": "4Kl2nrbdraqT",
        "colab": {
          "base_uri": "https://localhost:8080/",
          "height": 34
        },
        "outputId": "969fed3e-e114-4c5c-ef8e-324c51c253c8"
      },
      "source": [
        "print('crosss validation RF MAE. is:', np.mean(testing_error))"
      ],
      "execution_count": null,
      "outputs": [
        {
          "output_type": "stream",
          "text": [
            "crosss validation RF MAE. is: 0.030832831036662522\n"
          ],
          "name": "stdout"
        }
      ]
    },
    {
      "cell_type": "markdown",
      "metadata": {
        "id": "X4A25pRIWBgv"
      },
      "source": [
        "**[Experiment 1]Multiple Linear Regression, since the paper didn't do train/valid/test, we will only do train/valid here** "
      ]
    },
    {
      "cell_type": "code",
      "metadata": {
        "id": "b7q0BLjZWNE_",
        "colab": {
          "base_uri": "https://localhost:8080/",
          "height": 68
        },
        "outputId": "32c75352-70ee-463e-adb3-1a5b02ca6fc6"
      },
      "source": [
        "# its pretty simple just like linear regression with more terms (a2X2+a3X3,...anXn)\n",
        "from sklearn.linear_model import LinearRegression\n",
        "\n",
        "reg = LinearRegression()  \n",
        "reg.fit(X_train, y_train) #training the algorithm\n",
        "\n",
        "\n",
        "#the intercept:\n",
        "print ('intecept at y axis at', reg.intercept_)\n",
        "#retrieving the slope for all x:\n",
        "print ('Slope are', reg.coef_)\n",
        "\n",
        "y_pred = reg.predict(X_test)"
      ],
      "execution_count": null,
      "outputs": [
        {
          "output_type": "stream",
          "text": [
            "intecept at y axis at -0.025302304918391774\n",
            "Slope are [-5.46052405e-01 -3.09449975e+13  1.53261537e+13  3.17339503e+13\n",
            "  7.61718750e-01 -1.11770630e-02  2.52540588e-01  4.03747559e-02]\n"
          ],
          "name": "stdout"
        }
      ]
    },
    {
      "cell_type": "code",
      "metadata": {
        "id": "yskLQEhxapEs",
        "colab": {
          "base_uri": "https://localhost:8080/",
          "height": 34
        },
        "outputId": "14361c3b-8430-4bf9-a04f-899a45387650"
      },
      "source": [
        "# lets see the mae results\n",
        "print('MLR Mean absolute error is', mean_absolute_error(y_test, y_pred) )\n"
      ],
      "execution_count": null,
      "outputs": [
        {
          "output_type": "stream",
          "text": [
            "MLR Mean absolute error is 0.17329770838655376\n"
          ],
          "name": "stdout"
        }
      ]
    },
    {
      "cell_type": "markdown",
      "metadata": {
        "id": "TMZBt0wqblJY"
      },
      "source": [
        "the results still not that good comparing to the paper"
      ]
    },
    {
      "cell_type": "code",
      "metadata": {
        "id": "pmVYvnYUXs4-",
        "colab": {
          "base_uri": "https://localhost:8080/",
          "height": 1000
        },
        "outputId": "63b3b44a-de27-4876-f0b3-99beda7053ca"
      },
      "source": [
        "df2 = pd.DataFrame({'Actual': y_test.flatten(), 'Predicted': y_pred.flatten()})\n",
        "pd.set_option('display.max_rows',df2.shape[0]+1)\n",
        "df2"
      ],
      "execution_count": null,
      "outputs": [
        {
          "output_type": "execute_result",
          "data": {
            "text/html": [
              "<div>\n",
              "<style scoped>\n",
              "    .dataframe tbody tr th:only-of-type {\n",
              "        vertical-align: middle;\n",
              "    }\n",
              "\n",
              "    .dataframe tbody tr th {\n",
              "        vertical-align: top;\n",
              "    }\n",
              "\n",
              "    .dataframe thead th {\n",
              "        text-align: right;\n",
              "    }\n",
              "</style>\n",
              "<table border=\"1\" class=\"dataframe\">\n",
              "  <thead>\n",
              "    <tr style=\"text-align: right;\">\n",
              "      <th></th>\n",
              "      <th>Actual</th>\n",
              "      <th>Predicted</th>\n",
              "    </tr>\n",
              "  </thead>\n",
              "  <tbody>\n",
              "    <tr>\n",
              "      <th>0</th>\n",
              "      <td>-0.233764</td>\n",
              "      <td>0.209073</td>\n",
              "    </tr>\n",
              "    <tr>\n",
              "      <th>1</th>\n",
              "      <td>-1.580501</td>\n",
              "      <td>-1.509677</td>\n",
              "    </tr>\n",
              "    <tr>\n",
              "      <th>2</th>\n",
              "      <td>-1.144151</td>\n",
              "      <td>-1.318271</td>\n",
              "    </tr>\n",
              "    <tr>\n",
              "      <th>3</th>\n",
              "      <td>0.750008</td>\n",
              "      <td>0.522043</td>\n",
              "    </tr>\n",
              "    <tr>\n",
              "      <th>4</th>\n",
              "      <td>0.456463</td>\n",
              "      <td>0.425870</td>\n",
              "    </tr>\n",
              "    <tr>\n",
              "      <th>5</th>\n",
              "      <td>1.054462</td>\n",
              "      <td>1.045010</td>\n",
              "    </tr>\n",
              "    <tr>\n",
              "      <th>6</th>\n",
              "      <td>-1.184811</td>\n",
              "      <td>-1.392490</td>\n",
              "    </tr>\n",
              "    <tr>\n",
              "      <th>7</th>\n",
              "      <td>-1.112416</td>\n",
              "      <td>-1.254794</td>\n",
              "    </tr>\n",
              "    <tr>\n",
              "      <th>8</th>\n",
              "      <td>-1.053905</td>\n",
              "      <td>-1.132735</td>\n",
              "    </tr>\n",
              "    <tr>\n",
              "      <th>9</th>\n",
              "      <td>-1.052914</td>\n",
              "      <td>-1.163985</td>\n",
              "    </tr>\n",
              "    <tr>\n",
              "      <th>10</th>\n",
              "      <td>-0.703833</td>\n",
              "      <td>-1.109287</td>\n",
              "    </tr>\n",
              "    <tr>\n",
              "      <th>11</th>\n",
              "      <td>0.192669</td>\n",
              "      <td>0.329190</td>\n",
              "    </tr>\n",
              "    <tr>\n",
              "      <th>12</th>\n",
              "      <td>1.360899</td>\n",
              "      <td>0.695401</td>\n",
              "    </tr>\n",
              "    <tr>\n",
              "      <th>13</th>\n",
              "      <td>1.001901</td>\n",
              "      <td>1.056729</td>\n",
              "    </tr>\n",
              "    <tr>\n",
              "      <th>14</th>\n",
              "      <td>-1.076715</td>\n",
              "      <td>-1.207919</td>\n",
              "    </tr>\n",
              "    <tr>\n",
              "      <th>15</th>\n",
              "      <td>0.202586</td>\n",
              "      <td>0.360440</td>\n",
              "    </tr>\n",
              "    <tr>\n",
              "      <th>16</th>\n",
              "      <td>0.668688</td>\n",
              "      <td>0.553293</td>\n",
              "    </tr>\n",
              "    <tr>\n",
              "      <th>17</th>\n",
              "      <td>-1.153076</td>\n",
              "      <td>-1.263584</td>\n",
              "    </tr>\n",
              "    <tr>\n",
              "      <th>18</th>\n",
              "      <td>-1.105474</td>\n",
              "      <td>-1.196201</td>\n",
              "    </tr>\n",
              "    <tr>\n",
              "      <th>19</th>\n",
              "      <td>-1.060847</td>\n",
              "      <td>-1.113204</td>\n",
              "    </tr>\n",
              "    <tr>\n",
              "      <th>20</th>\n",
              "      <td>0.205561</td>\n",
              "      <td>0.415127</td>\n",
              "    </tr>\n",
              "    <tr>\n",
              "      <th>21</th>\n",
              "      <td>0.468363</td>\n",
              "      <td>0.484463</td>\n",
              "    </tr>\n",
              "    <tr>\n",
              "      <th>22</th>\n",
              "      <td>0.746041</td>\n",
              "      <td>0.631418</td>\n",
              "    </tr>\n",
              "    <tr>\n",
              "      <th>23</th>\n",
              "      <td>1.428335</td>\n",
              "      <td>0.795010</td>\n",
              "    </tr>\n",
              "    <tr>\n",
              "      <th>24</th>\n",
              "      <td>-1.183819</td>\n",
              "      <td>-1.298740</td>\n",
              "    </tr>\n",
              "    <tr>\n",
              "      <th>25</th>\n",
              "      <td>-1.107458</td>\n",
              "      <td>-1.141513</td>\n",
              "    </tr>\n",
              "    <tr>\n",
              "      <th>26</th>\n",
              "      <td>-1.087623</td>\n",
              "      <td>-1.038985</td>\n",
              "    </tr>\n",
              "    <tr>\n",
              "      <th>27</th>\n",
              "      <td>0.579435</td>\n",
              "      <td>0.621182</td>\n",
              "    </tr>\n",
              "    <tr>\n",
              "      <th>28</th>\n",
              "      <td>0.605219</td>\n",
              "      <td>0.589932</td>\n",
              "    </tr>\n",
              "    <tr>\n",
              "      <th>29</th>\n",
              "      <td>-0.981511</td>\n",
              "      <td>-1.130771</td>\n",
              "    </tr>\n",
              "    <tr>\n",
              "      <th>30</th>\n",
              "      <td>-0.929942</td>\n",
              "      <td>-0.962802</td>\n",
              "    </tr>\n",
              "    <tr>\n",
              "      <th>31</th>\n",
              "      <td>-0.906141</td>\n",
              "      <td>-0.848201</td>\n",
              "    </tr>\n",
              "    <tr>\n",
              "      <th>32</th>\n",
              "      <td>-0.708792</td>\n",
              "      <td>-0.771396</td>\n",
              "    </tr>\n",
              "    <tr>\n",
              "      <th>33</th>\n",
              "      <td>1.402551</td>\n",
              "      <td>1.341885</td>\n",
              "    </tr>\n",
              "    <tr>\n",
              "      <th>34</th>\n",
              "      <td>0.924548</td>\n",
              "      <td>0.869077</td>\n",
              "    </tr>\n",
              "    <tr>\n",
              "      <th>35</th>\n",
              "      <td>0.237296</td>\n",
              "      <td>0.930766</td>\n",
              "    </tr>\n",
              "    <tr>\n",
              "      <th>36</th>\n",
              "      <td>0.303740</td>\n",
              "      <td>0.911234</td>\n",
              "    </tr>\n",
              "    <tr>\n",
              "      <th>37</th>\n",
              "      <td>-0.938868</td>\n",
              "      <td>-0.828670</td>\n",
              "    </tr>\n",
              "    <tr>\n",
              "      <th>38</th>\n",
              "      <td>-0.828788</td>\n",
              "      <td>-0.712802</td>\n",
              "    </tr>\n",
              "    <tr>\n",
              "      <th>39</th>\n",
              "      <td>-0.824821</td>\n",
              "      <td>-0.720615</td>\n",
              "    </tr>\n",
              "    <tr>\n",
              "      <th>40</th>\n",
              "      <td>0.671663</td>\n",
              "      <td>0.780362</td>\n",
              "    </tr>\n",
              "    <tr>\n",
              "      <th>41</th>\n",
              "      <td>1.754606</td>\n",
              "      <td>1.061612</td>\n",
              "    </tr>\n",
              "    <tr>\n",
              "      <th>42</th>\n",
              "      <td>-0.979527</td>\n",
              "      <td>-1.060459</td>\n",
              "    </tr>\n",
              "    <tr>\n",
              "      <th>43</th>\n",
              "      <td>-0.527310</td>\n",
              "      <td>-0.715732</td>\n",
              "    </tr>\n",
              "    <tr>\n",
              "      <th>44</th>\n",
              "      <td>0.914631</td>\n",
              "      <td>0.892514</td>\n",
              "    </tr>\n",
              "    <tr>\n",
              "      <th>45</th>\n",
              "      <td>0.734141</td>\n",
              "      <td>0.827237</td>\n",
              "    </tr>\n",
              "    <tr>\n",
              "      <th>46</th>\n",
              "      <td>-0.997378</td>\n",
              "      <td>-0.923740</td>\n",
              "    </tr>\n",
              "    <tr>\n",
              "      <th>47</th>\n",
              "      <td>0.999918</td>\n",
              "      <td>0.995206</td>\n",
              "    </tr>\n",
              "    <tr>\n",
              "      <th>48</th>\n",
              "      <td>0.629020</td>\n",
              "      <td>1.133268</td>\n",
              "    </tr>\n",
              "    <tr>\n",
              "      <th>49</th>\n",
              "      <td>1.893445</td>\n",
              "      <td>1.268643</td>\n",
              "    </tr>\n",
              "    <tr>\n",
              "      <th>50</th>\n",
              "      <td>1.825017</td>\n",
              "      <td>1.611416</td>\n",
              "    </tr>\n",
              "    <tr>\n",
              "      <th>51</th>\n",
              "      <td>1.797250</td>\n",
              "      <td>1.599698</td>\n",
              "    </tr>\n",
              "    <tr>\n",
              "      <th>52</th>\n",
              "      <td>-0.766311</td>\n",
              "      <td>-0.753818</td>\n",
              "    </tr>\n",
              "    <tr>\n",
              "      <th>53</th>\n",
              "      <td>-0.701850</td>\n",
              "      <td>-0.575386</td>\n",
              "    </tr>\n",
              "    <tr>\n",
              "      <th>54</th>\n",
              "      <td>1.796258</td>\n",
              "      <td>1.623135</td>\n",
              "    </tr>\n",
              "    <tr>\n",
              "      <th>55</th>\n",
              "      <td>-0.770277</td>\n",
              "      <td>-0.802646</td>\n",
              "    </tr>\n",
              "    <tr>\n",
              "      <th>56</th>\n",
              "      <td>-0.762344</td>\n",
              "      <td>-0.669834</td>\n",
              "    </tr>\n",
              "    <tr>\n",
              "      <th>57</th>\n",
              "      <td>-0.339877</td>\n",
              "      <td>-0.489169</td>\n",
              "    </tr>\n",
              "    <tr>\n",
              "      <th>58</th>\n",
              "      <td>1.253795</td>\n",
              "      <td>1.145798</td>\n",
              "    </tr>\n",
              "    <tr>\n",
              "      <th>59</th>\n",
              "      <td>0.973142</td>\n",
              "      <td>1.045987</td>\n",
              "    </tr>\n",
              "    <tr>\n",
              "      <th>60</th>\n",
              "      <td>0.654804</td>\n",
              "      <td>1.184050</td>\n",
              "    </tr>\n",
              "    <tr>\n",
              "      <th>61</th>\n",
              "      <td>-0.815896</td>\n",
              "      <td>-0.646396</td>\n",
              "    </tr>\n",
              "    <tr>\n",
              "      <th>62</th>\n",
              "      <td>1.034628</td>\n",
              "      <td>0.953213</td>\n",
              "    </tr>\n",
              "    <tr>\n",
              "      <th>63</th>\n",
              "      <td>1.331148</td>\n",
              "      <td>1.169236</td>\n",
              "    </tr>\n",
              "    <tr>\n",
              "      <th>64</th>\n",
              "      <td>0.656788</td>\n",
              "      <td>1.242643</td>\n",
              "    </tr>\n",
              "    <tr>\n",
              "      <th>65</th>\n",
              "      <td>-0.776228</td>\n",
              "      <td>-0.759677</td>\n",
              "    </tr>\n",
              "    <tr>\n",
              "      <th>66</th>\n",
              "      <td>-0.762344</td>\n",
              "      <td>-0.599521</td>\n",
              "    </tr>\n",
              "    <tr>\n",
              "      <th>67</th>\n",
              "      <td>-0.753418</td>\n",
              "      <td>-0.619052</td>\n",
              "    </tr>\n",
              "    <tr>\n",
              "      <th>68</th>\n",
              "      <td>-0.695900</td>\n",
              "      <td>-0.497261</td>\n",
              "    </tr>\n",
              "    <tr>\n",
              "      <th>69</th>\n",
              "      <td>-0.327977</td>\n",
              "      <td>-0.454013</td>\n",
              "    </tr>\n",
              "    <tr>\n",
              "      <th>70</th>\n",
              "      <td>-0.532268</td>\n",
              "      <td>-0.400302</td>\n",
              "    </tr>\n",
              "    <tr>\n",
              "      <th>71</th>\n",
              "      <td>1.033636</td>\n",
              "      <td>0.976651</td>\n",
              "    </tr>\n",
              "    <tr>\n",
              "      <th>72</th>\n",
              "      <td>1.282554</td>\n",
              "      <td>1.169236</td>\n",
              "    </tr>\n",
              "    <tr>\n",
              "      <th>73</th>\n",
              "      <td>-0.796062</td>\n",
              "      <td>-0.572177</td>\n",
              "    </tr>\n",
              "    <tr>\n",
              "      <th>74</th>\n",
              "      <td>-0.787136</td>\n",
              "      <td>-0.579990</td>\n",
              "    </tr>\n",
              "    <tr>\n",
              "      <th>75</th>\n",
              "      <td>-0.439048</td>\n",
              "      <td>-0.434482</td>\n",
              "    </tr>\n",
              "  </tbody>\n",
              "</table>\n",
              "</div>"
            ],
            "text/plain": [
              "      Actual  Predicted\n",
              "0  -0.233764   0.209073\n",
              "1  -1.580501  -1.509677\n",
              "2  -1.144151  -1.318271\n",
              "3   0.750008   0.522043\n",
              "4   0.456463   0.425870\n",
              "5   1.054462   1.045010\n",
              "6  -1.184811  -1.392490\n",
              "7  -1.112416  -1.254794\n",
              "8  -1.053905  -1.132735\n",
              "9  -1.052914  -1.163985\n",
              "10 -0.703833  -1.109287\n",
              "11  0.192669   0.329190\n",
              "12  1.360899   0.695401\n",
              "13  1.001901   1.056729\n",
              "14 -1.076715  -1.207919\n",
              "15  0.202586   0.360440\n",
              "16  0.668688   0.553293\n",
              "17 -1.153076  -1.263584\n",
              "18 -1.105474  -1.196201\n",
              "19 -1.060847  -1.113204\n",
              "20  0.205561   0.415127\n",
              "21  0.468363   0.484463\n",
              "22  0.746041   0.631418\n",
              "23  1.428335   0.795010\n",
              "24 -1.183819  -1.298740\n",
              "25 -1.107458  -1.141513\n",
              "26 -1.087623  -1.038985\n",
              "27  0.579435   0.621182\n",
              "28  0.605219   0.589932\n",
              "29 -0.981511  -1.130771\n",
              "30 -0.929942  -0.962802\n",
              "31 -0.906141  -0.848201\n",
              "32 -0.708792  -0.771396\n",
              "33  1.402551   1.341885\n",
              "34  0.924548   0.869077\n",
              "35  0.237296   0.930766\n",
              "36  0.303740   0.911234\n",
              "37 -0.938868  -0.828670\n",
              "38 -0.828788  -0.712802\n",
              "39 -0.824821  -0.720615\n",
              "40  0.671663   0.780362\n",
              "41  1.754606   1.061612\n",
              "42 -0.979527  -1.060459\n",
              "43 -0.527310  -0.715732\n",
              "44  0.914631   0.892514\n",
              "45  0.734141   0.827237\n",
              "46 -0.997378  -0.923740\n",
              "47  0.999918   0.995206\n",
              "48  0.629020   1.133268\n",
              "49  1.893445   1.268643\n",
              "50  1.825017   1.611416\n",
              "51  1.797250   1.599698\n",
              "52 -0.766311  -0.753818\n",
              "53 -0.701850  -0.575386\n",
              "54  1.796258   1.623135\n",
              "55 -0.770277  -0.802646\n",
              "56 -0.762344  -0.669834\n",
              "57 -0.339877  -0.489169\n",
              "58  1.253795   1.145798\n",
              "59  0.973142   1.045987\n",
              "60  0.654804   1.184050\n",
              "61 -0.815896  -0.646396\n",
              "62  1.034628   0.953213\n",
              "63  1.331148   1.169236\n",
              "64  0.656788   1.242643\n",
              "65 -0.776228  -0.759677\n",
              "66 -0.762344  -0.599521\n",
              "67 -0.753418  -0.619052\n",
              "68 -0.695900  -0.497261\n",
              "69 -0.327977  -0.454013\n",
              "70 -0.532268  -0.400302\n",
              "71  1.033636   0.976651\n",
              "72  1.282554   1.169236\n",
              "73 -0.796062  -0.572177\n",
              "74 -0.787136  -0.579990\n",
              "75 -0.439048  -0.434482"
            ]
          },
          "metadata": {
            "tags": []
          },
          "execution_count": 18
        }
      ]
    },
    {
      "cell_type": "markdown",
      "metadata": {
        "id": "IbspMk5QZDQG"
      },
      "source": [
        "we can do scatter plots for every independents vs Y1, but its boring"
      ]
    },
    {
      "cell_type": "markdown",
      "metadata": {
        "id": "PxVrUIddLCLo"
      },
      "source": [
        "**[Experiment 1] use Kfold, cv=10 from model_selection, default SVR**"
      ]
    },
    {
      "cell_type": "code",
      "metadata": {
        "id": "ecr1JL4590ev"
      },
      "source": [
        "from sklearn.svm import SVR\n",
        "# predicting Y1\n",
        "cv_scores_test = []\n",
        "testing_error = []\n",
        "model = SVR(kernel='linear')\n",
        "for train_index, test_index in cv.split(X):\n",
        "  X_train, X_test = X[train_index], X[test_index]\n",
        "  y_train, y_test = Y[train_index,0], Y[test_index,0]\n",
        "  model.fit(X_train, y_train)\n",
        "  y_test_pred = model.predict(X_test)      \n",
        "  cv_scores_test = mean_absolute_error(y_test, y_test_pred)\n",
        "  testing_error.append(cv_scores_test)"
      ],
      "execution_count": null,
      "outputs": []
    },
    {
      "cell_type": "code",
      "metadata": {
        "id": "u6WrZ67rA51e",
        "outputId": "1ea4eb64-e384-4180-c9a5-085c43615794",
        "colab": {
          "base_uri": "https://localhost:8080/",
          "height": 34
        }
      },
      "source": [
        "print('SVR with linar kernel, crosss validation MAE. is:', np.mean(testing_error))"
      ],
      "execution_count": null,
      "outputs": [
        {
          "output_type": "stream",
          "text": [
            "SVR with linar kernel, crosss validation MAE. is: 0.20101721445280568\n"
          ],
          "name": "stdout"
        }
      ]
    },
    {
      "cell_type": "markdown",
      "metadata": {
        "id": "jHQR0ZQOLRwk"
      },
      "source": [
        "**[Experiment 2] kernel = linear, use cross_val_scoree cv=10, plot**\n",
        "**Use cross_val_score from model_selection and plot Train vs CV**\n"
      ]
    },
    {
      "cell_type": "code",
      "metadata": {
        "id": "0b20autnLnf1"
      },
      "source": [
        "# split data\n",
        "import statistics\n",
        "from sklearn import metrics\n",
        "X_train, X_test, y_train, y_test = train_test_split(X, Y[:, 0], test_size = 0.2, random_state = 0)\n",
        "\n",
        "# predict Y1\n",
        "scores_cv = []\n",
        "scores_train =[]\n",
        "scores_test = []\n",
        "models = []\n",
        "\n",
        "# C parameter tells the SVM optimization how much you want to avoid misclassifying each training example.\n",
        "# for large C you will have small margin, and for will look for larger margin, even if the hyper-plane miss\n",
        "# classified more observation points.\n",
        "C = [0.001, 0.01, 0.1, 1, 10, 100, 200,500, 1000]\n",
        "# check sklearn.metrics.SCORERS.keys()\n",
        "\n",
        "for k in C:\n",
        "  model = SVR(kernel = 'linear')\n",
        "  scores = cross_val_score(model, X_train, y_train, scoring =\"neg_mean_absolute_error\", cv=10)\n",
        "  scores*=-1\n",
        "  scores_cv.append( np.mean(scores) )\n",
        "  model.fit(X_train, y_train)\n",
        "\n",
        "  y_pred_train = model.predict(X_train)\n",
        "  scores_train.append(mean_absolute_error(y_train, y_pred_train))\n",
        "\n",
        "  y_pred_test = model.predict(X_test)\n",
        "  scores_test.append(mean_absolute_error(y_test, y_pred_test) )\n",
        "  models.append(model)\n"
      ],
      "execution_count": null,
      "outputs": []
    },
    {
      "cell_type": "markdown",
      "metadata": {
        "id": "cQSueQCCUcz_"
      },
      "source": [
        "SVR with linear kernel doesn't give us an impression with difference in C for the dataset"
      ]
    },
    {
      "cell_type": "code",
      "metadata": {
        "id": "FOe9uKVtTuqp",
        "colab": {
          "base_uri": "https://localhost:8080/",
          "height": 312
        },
        "outputId": "2301a9af-06a0-420a-98e6-fbc35c63a444"
      },
      "source": [
        "# comparing CV scores, train and test scores\n",
        "\n",
        "plt.plot(C, scores_cv, 'y', dashes=[6, 2], label = \"Mean of CV acc.\")\n",
        "plt.plot(C, scores_train, 'b', label = \"Train error.\")\n",
        "plt.plot(C, scores_test, 'r', label= \"Valid error.\")\n",
        "plt.legend(bbox_to_anchor=(1.05, 1), loc=2, borderaxespad=0.)\n",
        "plt.xlabel('C value ')\n",
        "plt.ylabel('Mean abs Error Rate')\n",
        "plt.title('Mean abs Error Rate of C in SVR ')\n",
        "plt.show()\n",
        "plt.savefig('SVR_CV_Train_Test' + '.png', dpi=900)"
      ],
      "execution_count": null,
      "outputs": [
        {
          "output_type": "display_data",
          "data": {
            "image/png": "[encoded data removed]",
            "text/plain": [
              "<Figure size 432x288 with 1 Axes>"
            ]
          },
          "metadata": {
            "tags": []
          }
        },
        {
          "output_type": "display_data",
          "data": {
            "text/plain": [
              "<Figure size 432x288 with 0 Axes>"
            ]
          },
          "metadata": {
            "tags": []
          }
        }
      ]
    },
    {
      "cell_type": "markdown",
      "metadata": {
        "id": "D6OmVVgUaKyl"
      },
      "source": [
        "**[Experiment 3] Use python GridSearchCV method from model_selection - coarse grid search**"
      ]
    },
    {
      "cell_type": "code",
      "metadata": {
        "id": "yqSi7-kClcae",
        "outputId": "9c992797-1a00-43fc-aaec-4094fa82a69e",
        "colab": {
          "base_uri": "https://localhost:8080/",
          "height": 34
        }
      },
      "source": [
        "# In python tuning hyper-parem for SVM is easy by using GrideSearCV from model_selection\n",
        "from sklearn.model_selection import GridSearchCV\n",
        "\n",
        "params = {'C': [0.001, 0.01, 0.1, 1, 10, 100, 200,500, 1000], 'gamma': [0.001, 0.01, 0.1, 1, 10, 100, 200, 500, 1000]}\n",
        "\n",
        "# use cv= 5 for bias and fast results :(\n",
        "model2 = GridSearchCV(SVR(kernel='rbf'), params, scoring = 'neg_mean_absolute_error', cv=5)\n",
        "model2.fit(X_train, y_train)\n",
        "print(model2.best_params_)"
      ],
      "execution_count": null,
      "outputs": [
        {
          "output_type": "stream",
          "text": [
            "{'C': 500, 'gamma': 0.1}\n"
          ],
          "name": "stdout"
        }
      ]
    },
    {
      "cell_type": "code",
      "metadata": {
        "id": "OuXTnCvvjU3G",
        "colab": {
          "base_uri": "https://localhost:8080/",
          "height": 1000
        },
        "outputId": "7012bf39-cc27-4e6d-8168-33f47cb1ecb7"
      },
      "source": [
        "model2.cv_results_"
      ],
      "execution_count": null,
      "outputs": [
        {
          "output_type": "execute_result",
          "data": {
            "text/plain": [
              "{'mean_fit_time': array([0.01618018, 0.01553392, 0.01621475, 0.014258  , 0.02066803,\n",
              "        0.01431427, 0.01343908, 0.01278028, 0.01262202, 0.01568394,\n",
              "        0.01522136, 0.01425109, 0.01439233, 0.02301393, 0.01450171,\n",
              "        0.01325316, 0.01263905, 0.01282568, 0.01539211, 0.0123971 ,\n",
              "        0.0106277 , 0.01372743, 0.02162261, 0.01503496, 0.01402302,\n",
              "        0.01314931, 0.01384425, 0.01236949, 0.01191301, 0.02178535,\n",
              "        0.03025656, 0.03433681, 0.02201004, 0.02076197, 0.02065663,\n",
              "        0.01991725, 0.01428847, 0.02337976, 0.05451517, 0.02845769,\n",
              "        0.04083266, 0.02713571, 0.02521043, 0.02434855, 0.02412171,\n",
              "        0.0246141 , 0.05926595, 0.13698936, 0.02867813, 0.04108849,\n",
              "        0.02675486, 0.02509599, 0.02398305, 0.02429113, 0.02878976,\n",
              "        0.11387663, 0.1386724 , 0.02979851, 0.04074039, 0.02656698,\n",
              "        0.02522941, 0.0243216 , 0.02394438, 0.04398541, 0.2457356 ,\n",
              "        0.13942633, 0.02819471, 0.0412693 , 0.02656212, 0.02514734,\n",
              "        0.02394924, 0.02449851, 0.06396737, 0.49416885, 0.1384016 ,\n",
              "        0.02811136, 0.04041662, 0.02605987, 0.02540202, 0.02409   ,\n",
              "        0.02361016]),\n",
              " 'mean_score_time': array([0.00244527, 0.00232205, 0.00236211, 0.00234704, 0.00241714,\n",
              "        0.00230036, 0.00209155, 0.00194316, 0.00183415, 0.00241256,\n",
              "        0.00220246, 0.00218306, 0.00229993, 0.00244441, 0.00226598,\n",
              "        0.00202322, 0.00184174, 0.00183306, 0.00230699, 0.0019495 ,\n",
              "        0.00160837, 0.00205569, 0.00243068, 0.00227318, 0.00204153,\n",
              "        0.00188937, 0.00215278, 0.00196161, 0.00147185, 0.00143204,\n",
              "        0.00191002, 0.00251913, 0.00244651, 0.00209856, 0.00231323,\n",
              "        0.00192361, 0.00174923, 0.00163517, 0.00160646, 0.00193653,\n",
              "        0.00250773, 0.00250263, 0.0021739 , 0.00201039, 0.00196328,\n",
              "        0.00162416, 0.00164032, 0.00124207, 0.00190172, 0.00287418,\n",
              "        0.00244837, 0.00216141, 0.00195775, 0.00196419, 0.00163832,\n",
              "        0.00162954, 0.00128503, 0.00204134, 0.00237179, 0.0023818 ,\n",
              "        0.00213227, 0.00202465, 0.00187283, 0.00160084, 0.00163765,\n",
              "        0.00130377, 0.00181527, 0.0023941 , 0.00244656, 0.00211582,\n",
              "        0.00198135, 0.00191207, 0.0016561 , 0.00164242, 0.00127187,\n",
              "        0.00178757, 0.00243764, 0.00233121, 0.00229483, 0.00188251,\n",
              "        0.00182552]),\n",
              " 'mean_test_score': array([-0.88581068, -0.86327291, -0.81509539, -0.88272194, -0.88873282,\n",
              "        -0.88875388, -0.88875388, -0.88875388, -0.88875388, -0.85923789,\n",
              "        -0.66132715, -0.42493608, -0.82850262, -0.88875143, -0.88895788,\n",
              "        -0.88895788, -0.88895788, -0.88895788, -0.6349029 , -0.25672044,\n",
              "        -0.19728741, -0.47609488, -0.88688237, -0.88898239, -0.88898239,\n",
              "        -0.88898239, -0.88898239, -0.25380574, -0.17876354, -0.15759911,\n",
              "        -0.20560592, -0.87811054, -0.89329142, -0.89329142, -0.89329142,\n",
              "        -0.89329142, -0.20184106, -0.1695309 , -0.12294511, -0.19616954,\n",
              "        -0.87984038, -0.89711667, -0.89711667, -0.89711667, -0.89711667,\n",
              "        -0.17649969, -0.15445292, -0.08633422, -0.19616954, -0.87984038,\n",
              "        -0.89711667, -0.89711667, -0.89711667, -0.89711667, -0.17525979,\n",
              "        -0.14536843, -0.08527889, -0.19616954, -0.87984038, -0.89711667,\n",
              "        -0.89711667, -0.89711667, -0.89711667, -0.17304696, -0.13293051,\n",
              "        -0.08513499, -0.19616954, -0.87984038, -0.89711667, -0.89711667,\n",
              "        -0.89711667, -0.89711667, -0.17162177, -0.12820777, -0.08513499,\n",
              "        -0.19616954, -0.87984038, -0.89711667, -0.89711667, -0.89711667,\n",
              "        -0.89711667]),\n",
              " 'param_C': masked_array(data=[0.001, 0.001, 0.001, 0.001, 0.001, 0.001, 0.001, 0.001,\n",
              "                    0.001, 0.01, 0.01, 0.01, 0.01, 0.01, 0.01, 0.01, 0.01,\n",
              "                    0.01, 0.1, 0.1, 0.1, 0.1, 0.1, 0.1, 0.1, 0.1, 0.1, 1,\n",
              "                    1, 1, 1, 1, 1, 1, 1, 1, 10, 10, 10, 10, 10, 10, 10, 10,\n",
              "                    10, 100, 100, 100, 100, 100, 100, 100, 100, 100, 200,\n",
              "                    200, 200, 200, 200, 200, 200, 200, 200, 500, 500, 500,\n",
              "                    500, 500, 500, 500, 500, 500, 1000, 1000, 1000, 1000,\n",
              "                    1000, 1000, 1000, 1000, 1000],\n",
              "              mask=[False, False, False, False, False, False, False, False,\n",
              "                    False, False, False, False, False, False, False, False,\n",
              "                    False, False, False, False, False, False, False, False,\n",
              "                    False, False, False, False, False, False, False, False,\n",
              "                    False, False, False, False, False, False, False, False,\n",
              "                    False, False, False, False, False, False, False, False,\n",
              "                    False, False, False, False, False, False, False, False,\n",
              "                    False, False, False, False, False, False, False, False,\n",
              "                    False, False, False, False, False, False, False, False,\n",
              "                    False, False, False, False, False, False, False, False,\n",
              "                    False],\n",
              "        fill_value='?',\n",
              "             dtype=object),\n",
              " 'param_gamma': masked_array(data=[0.001, 0.01, 0.1, 1, 10, 100, 200, 500, 1000, 0.001,\n",
              "                    0.01, 0.1, 1, 10, 100, 200, 500, 1000, 0.001, 0.01,\n",
              "                    0.1, 1, 10, 100, 200, 500, 1000, 0.001, 0.01, 0.1, 1,\n",
              "                    10, 100, 200, 500, 1000, 0.001, 0.01, 0.1, 1, 10, 100,\n",
              "                    200, 500, 1000, 0.001, 0.01, 0.1, 1, 10, 100, 200, 500,\n",
              "                    1000, 0.001, 0.01, 0.1, 1, 10, 100, 200, 500, 1000,\n",
              "                    0.001, 0.01, 0.1, 1, 10, 100, 200, 500, 1000, 0.001,\n",
              "                    0.01, 0.1, 1, 10, 100, 200, 500, 1000],\n",
              "              mask=[False, False, False, False, False, False, False, False,\n",
              "                    False, False, False, False, False, False, False, False,\n",
              "                    False, False, False, False, False, False, False, False,\n",
              "                    False, False, False, False, False, False, False, False,\n",
              "                    False, False, False, False, False, False, False, False,\n",
              "                    False, False, False, False, False, False, False, False,\n",
              "                    False, False, False, False, False, False, False, False,\n",
              "                    False, False, False, False, False, False, False, False,\n",
              "                    False, False, False, False, False, False, False, False,\n",
              "                    False, False, False, False, False, False, False, False,\n",
              "                    False],\n",
              "        fill_value='?',\n",
              "             dtype=object),\n",
              " 'params': [{'C': 0.001, 'gamma': 0.001},\n",
              "  {'C': 0.001, 'gamma': 0.01},\n",
              "  {'C': 0.001, 'gamma': 0.1},\n",
              "  {'C': 0.001, 'gamma': 1},\n",
              "  {'C': 0.001, 'gamma': 10},\n",
              "  {'C': 0.001, 'gamma': 100},\n",
              "  {'C': 0.001, 'gamma': 200},\n",
              "  {'C': 0.001, 'gamma': 500},\n",
              "  {'C': 0.001, 'gamma': 1000},\n",
              "  {'C': 0.01, 'gamma': 0.001},\n",
              "  {'C': 0.01, 'gamma': 0.01},\n",
              "  {'C': 0.01, 'gamma': 0.1},\n",
              "  {'C': 0.01, 'gamma': 1},\n",
              "  {'C': 0.01, 'gamma': 10},\n",
              "  {'C': 0.01, 'gamma': 100},\n",
              "  {'C': 0.01, 'gamma': 200},\n",
              "  {'C': 0.01, 'gamma': 500},\n",
              "  {'C': 0.01, 'gamma': 1000},\n",
              "  {'C': 0.1, 'gamma': 0.001},\n",
              "  {'C': 0.1, 'gamma': 0.01},\n",
              "  {'C': 0.1, 'gamma': 0.1},\n",
              "  {'C': 0.1, 'gamma': 1},\n",
              "  {'C': 0.1, 'gamma': 10},\n",
              "  {'C': 0.1, 'gamma': 100},\n",
              "  {'C': 0.1, 'gamma': 200},\n",
              "  {'C': 0.1, 'gamma': 500},\n",
              "  {'C': 0.1, 'gamma': 1000},\n",
              "  {'C': 1, 'gamma': 0.001},\n",
              "  {'C': 1, 'gamma': 0.01},\n",
              "  {'C': 1, 'gamma': 0.1},\n",
              "  {'C': 1, 'gamma': 1},\n",
              "  {'C': 1, 'gamma': 10},\n",
              "  {'C': 1, 'gamma': 100},\n",
              "  {'C': 1, 'gamma': 200},\n",
              "  {'C': 1, 'gamma': 500},\n",
              "  {'C': 1, 'gamma': 1000},\n",
              "  {'C': 10, 'gamma': 0.001},\n",
              "  {'C': 10, 'gamma': 0.01},\n",
              "  {'C': 10, 'gamma': 0.1},\n",
              "  {'C': 10, 'gamma': 1},\n",
              "  {'C': 10, 'gamma': 10},\n",
              "  {'C': 10, 'gamma': 100},\n",
              "  {'C': 10, 'gamma': 200},\n",
              "  {'C': 10, 'gamma': 500},\n",
              "  {'C': 10, 'gamma': 1000},\n",
              "  {'C': 100, 'gamma': 0.001},\n",
              "  {'C': 100, 'gamma': 0.01},\n",
              "  {'C': 100, 'gamma': 0.1},\n",
              "  {'C': 100, 'gamma': 1},\n",
              "  {'C': 100, 'gamma': 10},\n",
              "  {'C': 100, 'gamma': 100},\n",
              "  {'C': 100, 'gamma': 200},\n",
              "  {'C': 100, 'gamma': 500},\n",
              "  {'C': 100, 'gamma': 1000},\n",
              "  {'C': 200, 'gamma': 0.001},\n",
              "  {'C': 200, 'gamma': 0.01},\n",
              "  {'C': 200, 'gamma': 0.1},\n",
              "  {'C': 200, 'gamma': 1},\n",
              "  {'C': 200, 'gamma': 10},\n",
              "  {'C': 200, 'gamma': 100},\n",
              "  {'C': 200, 'gamma': 200},\n",
              "  {'C': 200, 'gamma': 500},\n",
              "  {'C': 200, 'gamma': 1000},\n",
              "  {'C': 500, 'gamma': 0.001},\n",
              "  {'C': 500, 'gamma': 0.01},\n",
              "  {'C': 500, 'gamma': 0.1},\n",
              "  {'C': 500, 'gamma': 1},\n",
              "  {'C': 500, 'gamma': 10},\n",
              "  {'C': 500, 'gamma': 100},\n",
              "  {'C': 500, 'gamma': 200},\n",
              "  {'C': 500, 'gamma': 500},\n",
              "  {'C': 500, 'gamma': 1000},\n",
              "  {'C': 1000, 'gamma': 0.001},\n",
              "  {'C': 1000, 'gamma': 0.01},\n",
              "  {'C': 1000, 'gamma': 0.1},\n",
              "  {'C': 1000, 'gamma': 1},\n",
              "  {'C': 1000, 'gamma': 10},\n",
              "  {'C': 1000, 'gamma': 100},\n",
              "  {'C': 1000, 'gamma': 200},\n",
              "  {'C': 1000, 'gamma': 500},\n",
              "  {'C': 1000, 'gamma': 1000}],\n",
              " 'rank_test_score': array([42, 34, 31, 41, 44, 46, 46, 46, 46, 33, 30, 27, 32, 45, 50, 50, 50,\n",
              "        50, 29, 26, 22, 28, 43, 54, 54, 54, 54, 25, 16, 10, 24, 35, 58, 58,\n",
              "        58, 58, 23, 11,  5, 17, 36, 62, 62, 62, 62, 15,  9,  4, 17, 36, 62,\n",
              "        62, 62, 62, 14,  8,  3, 17, 36, 62, 62, 62, 62, 13,  7,  1, 17, 36,\n",
              "        62, 62, 62, 62, 12,  6,  1, 17, 36, 62, 62, 62, 62], dtype=int32),\n",
              " 'split0_test_score': array([-0.83498162, -0.81258762, -0.7641293 , -0.83196072, -0.83796655,\n",
              "        -0.83798762, -0.83798762, -0.83798762, -0.83798762, -0.80855737,\n",
              "        -0.61328427, -0.38115706, -0.77800072, -0.83783187, -0.83803871,\n",
              "        -0.83803871, -0.83803871, -0.83803871, -0.58601975, -0.25151251,\n",
              "        -0.19978683, -0.43049942, -0.83545469, -0.83750731, -0.83750731,\n",
              "        -0.83750731, -0.83750731, -0.25300775, -0.19414411, -0.1737231 ,\n",
              "        -0.19909787, -0.82620455, -0.8402335 , -0.8402335 , -0.8402335 ,\n",
              "        -0.8402335 , -0.21374635, -0.17967886, -0.13108248, -0.19154155,\n",
              "        -0.82650493, -0.8422269 , -0.8422269 , -0.8422269 , -0.8422269 ,\n",
              "        -0.19256858, -0.17036352, -0.08342932, -0.19154155, -0.82650493,\n",
              "        -0.8422269 , -0.8422269 , -0.8422269 , -0.8422269 , -0.189373  ,\n",
              "        -0.16047106, -0.08183361, -0.19154155, -0.82650493, -0.8422269 ,\n",
              "        -0.8422269 , -0.8422269 , -0.8422269 , -0.18533096, -0.14682143,\n",
              "        -0.08183361, -0.19154155, -0.82650493, -0.8422269 , -0.8422269 ,\n",
              "        -0.8422269 , -0.8422269 , -0.18245621, -0.13753286, -0.08183361,\n",
              "        -0.19154155, -0.82650493, -0.8422269 , -0.8422269 , -0.8422269 ,\n",
              "        -0.8422269 ]),\n",
              " 'split1_test_score': array([-0.95575238, -0.93131606, -0.87842772, -0.95219499, -0.95870142,\n",
              "        -0.95872501, -0.95872501, -0.95872501, -0.95872501, -0.92699634,\n",
              "        -0.71713025, -0.46651587, -0.8936125 , -0.95846108, -0.95869008,\n",
              "        -0.95869008, -0.95869008, -0.95869008, -0.69289439, -0.28387678,\n",
              "        -0.19313368, -0.52331112, -0.95334453, -0.95552295, -0.95552295,\n",
              "        -0.95552295, -0.95552295, -0.28163987, -0.17326023, -0.13861908,\n",
              "        -0.20845876, -0.91957187, -0.93524607, -0.93524607, -0.93524607,\n",
              "        -0.93524607, -0.20691053, -0.15499963, -0.10800422, -0.20179837,\n",
              "        -0.91334681, -0.93073773, -0.93073773, -0.93073773, -0.93073773,\n",
              "        -0.16830648, -0.13727324, -0.08651538, -0.20179837, -0.91334681,\n",
              "        -0.93073773, -0.93073773, -0.93073773, -0.93073773, -0.16622269,\n",
              "        -0.12701461, -0.08655006, -0.20179837, -0.91334681, -0.93073773,\n",
              "        -0.93073773, -0.93073773, -0.93073773, -0.16329543, -0.11745702,\n",
              "        -0.08655006, -0.20179837, -0.91334681, -0.93073773, -0.93073773,\n",
              "        -0.93073773, -0.93073773, -0.16098062, -0.11401877, -0.08655006,\n",
              "        -0.20179837, -0.91334681, -0.93073773, -0.93073773, -0.93073773,\n",
              "        -0.93073773]),\n",
              " 'split2_test_score': array([-0.86409111, -0.8412262 , -0.79291212, -0.86109554, -0.86710671,\n",
              "        -0.86712604, -0.86712604, -0.86712604, -0.86712604, -0.83712375,\n",
              "        -0.6415112 , -0.41549374, -0.80650077, -0.86680671, -0.86698976,\n",
              "        -0.86698976, -0.86698976, -0.86698976, -0.61337545, -0.25267459,\n",
              "        -0.19247569, -0.46871658, -0.86209459, -0.86404124, -0.86404124,\n",
              "        -0.86404124, -0.86404124, -0.25014499, -0.17992267, -0.16206229,\n",
              "        -0.20022153, -0.84831579, -0.86180779, -0.86180779, -0.86180779,\n",
              "        -0.86180779, -0.20531398, -0.17177854, -0.12126558, -0.18861261,\n",
              "        -0.84917312, -0.86476087, -0.86476087, -0.86476087, -0.86476087,\n",
              "        -0.17736413, -0.15703133, -0.08607351, -0.18861261, -0.84917312,\n",
              "        -0.86476087, -0.86476087, -0.86476087, -0.86476087, -0.1762775 ,\n",
              "        -0.15105044, -0.08310777, -0.18861261, -0.84917312, -0.86476087,\n",
              "        -0.86476087, -0.86476087, -0.86476087, -0.17250873, -0.13516762,\n",
              "        -0.08244109, -0.18861261, -0.84917312, -0.86476087, -0.86476087,\n",
              "        -0.86476087, -0.86476087, -0.17119482, -0.12873983, -0.08244109,\n",
              "        -0.18861261, -0.84917312, -0.86476087, -0.86476087, -0.86476087,\n",
              "        -0.86476087]),\n",
              " 'split3_test_score': array([-0.90227316, -0.88054056, -0.83167848, -0.89894719, -0.90531399,\n",
              "        -0.90533692, -0.90533692, -0.90533692, -0.90533692, -0.87630697,\n",
              "        -0.68708061, -0.44034881, -0.84253919, -0.90550998, -0.90573936,\n",
              "        -0.90573936, -0.90573936, -0.90573936, -0.65814528, -0.25137567,\n",
              "        -0.21086811, -0.48553926, -0.90516893, -0.90748122, -0.90748122,\n",
              "        -0.90748122, -0.90748122, -0.24274503, -0.18139379, -0.1756084 ,\n",
              "        -0.22008938, -0.90963845, -0.92613895, -0.92613895, -0.92613895,\n",
              "        -0.92613895, -0.19348815, -0.18538491, -0.13992786, -0.20804887,\n",
              "        -0.91412699, -0.93296975, -0.93296975, -0.93296975, -0.93296975,\n",
              "        -0.18261238, -0.16703317, -0.09567121, -0.20804887, -0.91412699,\n",
              "        -0.93296975, -0.93296975, -0.93296975, -0.93296975, -0.18423318,\n",
              "        -0.15916312, -0.09499603, -0.20804887, -0.91412699, -0.93296975,\n",
              "        -0.93296975, -0.93296975, -0.93296975, -0.18538247, -0.14623759,\n",
              "        -0.09494318, -0.20804887, -0.91412699, -0.93296975, -0.93296975,\n",
              "        -0.93296975, -0.93296975, -0.18462368, -0.14226165, -0.09494318,\n",
              "        -0.20804887, -0.91412699, -0.93296975, -0.93296975, -0.93296975,\n",
              "        -0.93296975]),\n",
              " 'split4_test_score': array([-0.87195511, -0.85069411, -0.80832932, -0.86941126, -0.87457542,\n",
              "        -0.87459382, -0.87459382, -0.87459382, -0.87459382, -0.847205  ,\n",
              "        -0.64762941, -0.42116494, -0.82185993, -0.87514753, -0.87533152,\n",
              "        -0.87533152, -0.87533152, -0.87533152, -0.62407963, -0.24416264,\n",
              "        -0.19017271, -0.47240802, -0.87834911, -0.88035922, -0.88035922,\n",
              "        -0.88035922, -0.88035922, -0.24149108, -0.16509687, -0.1379827 ,\n",
              "        -0.20016204, -0.88682204, -0.90303078, -0.90303078, -0.90303078,\n",
              "        -0.90303078, -0.18974629, -0.15581253, -0.1144454 , -0.19084628,\n",
              "        -0.89605004, -0.9148881 , -0.9148881 , -0.9148881 , -0.9148881 ,\n",
              "        -0.16164687, -0.14056334, -0.0799817 , -0.19084628, -0.89605004,\n",
              "        -0.9148881 , -0.9148881 , -0.9148881 , -0.9148881 , -0.16019261,\n",
              "        -0.12914292, -0.079907  , -0.19084628, -0.89605004, -0.9148881 ,\n",
              "        -0.9148881 , -0.9148881 , -0.9148881 , -0.1587172 , -0.11896891,\n",
              "        -0.079907  , -0.19084628, -0.89605004, -0.9148881 , -0.9148881 ,\n",
              "        -0.9148881 , -0.9148881 , -0.15885352, -0.11848572, -0.079907  ,\n",
              "        -0.19084628, -0.89605004, -0.9148881 , -0.9148881 , -0.9148881 ,\n",
              "        -0.9148881 ]),\n",
              " 'std_fit_time': array([0.00080726, 0.00026477, 0.00107324, 0.00028226, 0.0007271 ,\n",
              "        0.00022215, 0.00031283, 0.00029518, 0.00014675, 0.00016121,\n",
              "        0.00029352, 0.00060055, 0.00024454, 0.00291665, 0.00034001,\n",
              "        0.00015898, 0.00016313, 0.00042285, 0.00042324, 0.00036854,\n",
              "        0.00057172, 0.0003803 , 0.00053059, 0.00034231, 0.00024407,\n",
              "        0.00035772, 0.0014078 , 0.00055636, 0.00077172, 0.00078807,\n",
              "        0.00342036, 0.001671  , 0.00128095, 0.00135121, 0.00168362,\n",
              "        0.00086913, 0.00069764, 0.00034512, 0.00145168, 0.00061428,\n",
              "        0.00457537, 0.00219568, 0.00146798, 0.00187893, 0.00193035,\n",
              "        0.00062521, 0.00284762, 0.01580534, 0.00046721, 0.00393683,\n",
              "        0.00199179, 0.00169855, 0.00164165, 0.00163507, 0.00098667,\n",
              "        0.00864331, 0.01569985, 0.00181644, 0.00456393, 0.00196657,\n",
              "        0.00189756, 0.00131957, 0.00170776, 0.00238195, 0.0143133 ,\n",
              "        0.01571981, 0.00070184, 0.00476511, 0.00180994, 0.00177278,\n",
              "        0.00169836, 0.0016744 , 0.00365653, 0.02156948, 0.01617385,\n",
              "        0.00041767, 0.00467998, 0.00193401, 0.00109683, 0.001708  ,\n",
              "        0.00177696]),\n",
              " 'std_score_time': array([6.47040790e-05, 1.16393069e-04, 1.29591988e-04, 1.22780929e-04,\n",
              "        1.93526545e-04, 9.60688546e-05, 5.76009813e-05, 1.04192836e-04,\n",
              "        6.19132241e-05, 9.30538887e-05, 8.11757528e-05, 1.12475425e-04,\n",
              "        5.10295077e-05, 2.26531709e-04, 1.41664733e-04, 6.25905761e-05,\n",
              "        3.98886182e-05, 3.42256825e-05, 9.58490608e-05, 8.36068928e-05,\n",
              "        7.16883080e-05, 6.16794716e-05, 1.29109858e-04, 5.80972022e-05,\n",
              "        4.54812171e-05, 9.90679662e-05, 4.82657073e-04, 1.62806382e-04,\n",
              "        4.09635036e-05, 8.23422806e-05, 1.32621213e-04, 1.29145867e-04,\n",
              "        1.09676133e-04, 7.18834191e-05, 7.25082252e-04, 9.16281280e-05,\n",
              "        5.08345984e-05, 1.52310820e-04, 1.01042683e-04, 5.45860053e-05,\n",
              "        3.58273876e-05, 9.64172988e-05, 9.57397109e-05, 1.00465459e-04,\n",
              "        6.33139559e-05, 1.04431083e-04, 1.24256298e-04, 2.31737953e-05,\n",
              "        1.04760114e-04, 5.29211859e-04, 1.17780458e-04, 5.24864518e-05,\n",
              "        5.38911644e-05, 1.02557641e-04, 5.22136906e-05, 8.05474366e-05,\n",
              "        8.82303894e-05, 4.02886795e-04, 4.37488673e-05, 1.56795920e-04,\n",
              "        4.94079234e-05, 9.98997176e-05, 7.27018589e-05, 6.40034842e-05,\n",
              "        4.12995487e-05, 1.41105018e-04, 5.55408656e-05, 7.15917599e-05,\n",
              "        1.05544499e-04, 6.18754965e-05, 1.53030305e-04, 6.73302510e-05,\n",
              "        7.02244350e-05, 8.53777431e-05, 1.02593218e-04, 1.14228986e-04,\n",
              "        1.79350582e-04, 9.71526192e-05, 5.04309669e-04, 7.02448302e-05,\n",
              "        7.18537432e-05]),\n",
              " 'std_test_score': array([0.04101259, 0.04035176, 0.03852636, 0.04077092, 0.04102652,\n",
              "        0.0410279 , 0.0410279 , 0.0410279 , 0.0410279 , 0.04021169,\n",
              "        0.03651204, 0.02823619, 0.03876847, 0.04098713, 0.04100057,\n",
              "        0.04100057, 0.04100057, 0.04100057, 0.03707657, 0.01390844,\n",
              "        0.0075061 , 0.02988494, 0.04020864, 0.04028885, 0.04028885,\n",
              "        0.04028885, 0.04028885, 0.01457921, 0.00961133, 0.01642731,\n",
              "        0.00798613, 0.03569566, 0.03671613, 0.03671613, 0.03671613,\n",
              "        0.03671613, 0.0088944 , 0.01231855, 0.01142739, 0.00747883,\n",
              "        0.03562627, 0.03685492, 0.03685492, 0.03685492, 0.03685492,\n",
              "        0.01080793, 0.01346194, 0.00521676, 0.00747883, 0.03562627,\n",
              "        0.03685492, 0.03685492, 0.03685492, 0.03685492, 0.01085752,\n",
              "        0.01449688, 0.00531939, 0.00747883, 0.03562627, 0.03685492,\n",
              "        0.03685492, 0.03685492, 0.03685492, 0.01098895, 0.01272318,\n",
              "        0.0053608 , 0.00747883, 0.03562627, 0.03685492, 0.03685492,\n",
              "        0.03685492, 0.03685492, 0.01061018, 0.01077588, 0.0053608 ,\n",
              "        0.00747883, 0.03562627, 0.03685492, 0.03685492, 0.03685492,\n",
              "        0.03685492])}"
            ]
          },
          "metadata": {
            "tags": []
          },
          "execution_count": 24
        }
      ]
    },
    {
      "cell_type": "code",
      "metadata": {
        "id": "HpM7ADheemkU",
        "colab": {
          "base_uri": "https://localhost:8080/",
          "height": 282
        },
        "outputId": "7751646d-58cd-4d18-ed58-71eb58e9496d"
      },
      "source": [
        "#visualize the parameter dependency with the models\n",
        "import seaborn as sns\n",
        "results_df = pd.DataFrame(model2.cv_results_)\n",
        "#negate them and you get the MSE\n",
        "results_df['mean_test_score'] *= -1\n",
        "scores = np.array(results_df.mean_test_score).reshape(9, 9)\n",
        "\n",
        "sns.heatmap(scores, annot=True, xticklabels=params['gamma'], yticklabels=params['C'])"
      ],
      "execution_count": null,
      "outputs": [
        {
          "output_type": "execute_result",
          "data": {
            "text/plain": [
              "<matplotlib.axes._subplots.AxesSubplot at 0x7efc5ac342b0>"
            ]
          },
          "metadata": {
            "tags": []
          },
          "execution_count": 25
        },
        {
          "output_type": "display_data",
          "data": {
            "image/png": "[encoded data removed]",
            "text/plain": [
              "<Figure size 432x288 with 2 Axes>"
            ]
          },
          "metadata": {
            "tags": []
          }
        }
      ]
    },
    {
      "cell_type": "markdown",
      "metadata": {
        "id": "6x-2p3iXkfrW"
      },
      "source": [
        "Remember the paper used RF to get MAE = 0.51 std .11 for Y1"
      ]
    },
    {
      "cell_type": "code",
      "metadata": {
        "id": "bG7fUafUkFkY"
      },
      "source": [
        "# now do fine medium search\n",
        "C = np.arange(1000, 1010, 1)\n",
        "g = np.arange(0, 1, 0.1)\n",
        "params_m = {'C': C, 'gamma': g}\n",
        "          "
      ],
      "execution_count": null,
      "outputs": []
    },
    {
      "cell_type": "code",
      "metadata": {
        "id": "h_8dfFO7mhmi",
        "colab": {
          "base_uri": "https://localhost:8080/",
          "height": 34
        },
        "outputId": "46b41e69-f7b5-40bf-ee7f-7f9521065523"
      },
      "source": [
        "model3 = GridSearchCV(SVR(kernel='rbf'), params_m, scoring = 'neg_mean_absolute_error', cv=5)\n",
        "model3.fit(X_train, y_train)\n",
        "print(model3.best_params_)"
      ],
      "execution_count": null,
      "outputs": [
        {
          "output_type": "stream",
          "text": [
            "{'C': 1000, 'gamma': 0.1}\n"
          ],
          "name": "stdout"
        }
      ]
    },
    {
      "cell_type": "code",
      "metadata": {
        "id": "RVu9e5RWn4HF",
        "colab": {
          "base_uri": "https://localhost:8080/",
          "height": 34
        },
        "outputId": "9bf9c149-f122-4177-a9a6-adf34ed333e0"
      },
      "source": [
        "\n",
        "best_model = SVR(kernel='rbf', gamma =.1, C=1000, verbose =True)\n",
        "best_model.fit(X_train, y_train)\n",
        "y_test_pred = best_model.predict(X_test)  \n",
        "mae = mean_absolute_error(y_test, y_test_pred)\n",
        "print('optimal modeL return MAE of:', mae)"
      ],
      "execution_count": null,
      "outputs": [
        {
          "output_type": "stream",
          "text": [
            "[LibSVM]optimal modeL return MAE of: 0.08703919247973263\n"
          ],
          "name": "stdout"
        }
      ]
    },
    {
      "cell_type": "markdown",
      "metadata": {
        "id": "LYU8ZL8pZ7FG"
      },
      "source": [
        "**[Experiment set up 4] Peform fine grid search**"
      ]
    },
    {
      "cell_type": "code",
      "metadata": {
        "id": "WaZsWx74vguo",
        "colab": {
          "base_uri": "https://localhost:8080/",
          "height": 282
        },
        "outputId": "ba46bebf-51b3-412d-cc02-4623f90998f9"
      },
      "source": [
        "results_df = pd.DataFrame(model3.cv_results_)\n",
        "#negate them and you get the MSE\n",
        "results_df['mean_test_score'] *= -1\n",
        "scores = np.array(results_df.mean_test_score).reshape(10, 10)\n",
        "\n",
        "sns.heatmap(scores, annot=True, xticklabels=params['gamma'], yticklabels=params['C'])"
      ],
      "execution_count": null,
      "outputs": [
        {
          "output_type": "execute_result",
          "data": {
            "text/plain": [
              "<matplotlib.axes._subplots.AxesSubplot at 0x7efc5bd94710>"
            ]
          },
          "metadata": {
            "tags": []
          },
          "execution_count": 29
        },
        {
          "output_type": "display_data",
          "data": {
            "image/png": "[encoded data removed]",
            "text/plain": [
              "<Figure size 432x288 with 2 Axes>"
            ]
          },
          "metadata": {
            "tags": []
          }
        }
      ]
    },
    {
      "cell_type": "markdown",
      "metadata": {
        "id": "yzoIanZnprVV"
      },
      "source": [
        "**[final check with 10 cv]**"
      ]
    },
    {
      "cell_type": "code",
      "metadata": {
        "id": "sEzhgZiOoBl1",
        "colab": {
          "base_uri": "https://localhost:8080/",
          "height": 34
        },
        "outputId": "34fd0dc0-d4ac-4c96-82c5-c00f60a81381"
      },
      "source": [
        "final_model = SVR(kernel = 'rbf', C=1000, gamma= 0.1)\n",
        "scores = cross_val_score(final_model, X_train, y_train, scoring =\"neg_mean_absolute_error\", cv=10)\n",
        "scores *= -1\n",
        "std = np.std(scores)\n",
        "\n",
        "optimal_mae = np.mean(scores)\n",
        "print('optimal SVR model =', optimal_mae, ' with std:',std)"
      ],
      "execution_count": null,
      "outputs": [
        {
          "output_type": "stream",
          "text": [
            "optimal SVR model = 0.07906955004477448  with std: 0.005391018725560369\n"
          ],
          "name": "stdout"
        }
      ]
    },
    {
      "cell_type": "markdown",
      "metadata": {
        "id": "Bk2ehCyb7U_B"
      },
      "source": [
        "**[Cross check with the two paper above]**\n"
      ]
    },
    {
      "cell_type": "code",
      "metadata": {
        "id": "MxVfRUeXZR2-"
      },
      "source": [
        ""
      ],
      "execution_count": null,
      "outputs": []
    }
  ]
}